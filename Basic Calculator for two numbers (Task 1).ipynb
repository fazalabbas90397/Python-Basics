{
 "cells": [
  {
   "cell_type": "code",
   "execution_count": 3,
   "id": "ec21e2c3",
   "metadata": {},
   "outputs": [
    {
     "name": "stdout",
     "output_type": "stream",
     "text": [
      "Please enter the first integer for calculation: 4\n",
      "Please enter the second integer for calculation: 4\n",
      "What operation do you need to perform with two numbers: type addition/multiplication,subtraction,divisionmultiplication\n",
      "The multiplication of two integers 4 and 4 is 16\n"
     ]
    }
   ],
   "source": [
    "# Task 1 \n",
    "# A simple calculator for two numbers\n",
    "# 26th June 2022\n",
    "# PIAIC 3rd Class\n",
    "\n",
    "num1 = int(input(\"Please enter the first integer for calculation: \"))\n",
    "num2 = int(input(\"Please enter the second integer for calculation: \"))\n",
    "\n",
    "operation = input(\"What operation do you need to perform with two numbers: type addition/multiplication,subtraction,division\")\n",
    "\n",
    "\n",
    "if operation == 'addition':\n",
    "    output =  num1+num2\n",
    "elif operation == 'multiplication':\n",
    "    output = num1*num2\n",
    "elif operation == 'subtraction':\n",
    "    output = num1-num2\n",
    "elif operation == 'division':\n",
    "    output = num1/num2\n",
    "    \n",
    "print(\"The\",operation,\"of two integers\",num1,\"and\",num2,\"is\",output)\n",
    "\n"
   ]
  }
 ],
 "metadata": {
  "kernelspec": {
   "display_name": "Python 3",
   "language": "python",
   "name": "python3"
  },
  "language_info": {
   "codemirror_mode": {
    "name": "ipython",
    "version": 3
   },
   "file_extension": ".py",
   "mimetype": "text/x-python",
   "name": "python",
   "nbconvert_exporter": "python",
   "pygments_lexer": "ipython3",
   "version": "3.8.8"
  }
 },
 "nbformat": 4,
 "nbformat_minor": 5
}
