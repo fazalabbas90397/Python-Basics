{
 "cells": [
  {
   "cell_type": "code",
   "execution_count": 1,
   "id": "30472c0e",
   "metadata": {},
   "outputs": [
    {
     "name": "stdout",
     "output_type": "stream",
     "text": [
      "Please type any note to print on your screen:\n",
      "I love my country\n",
      "Typed message: I love my country\n"
     ]
    }
   ],
   "source": [
    "# Question # 01\n",
    "# Variables and Strings\n",
    "# Simple Message: Assign a message to a variable, and then print that message.\n",
    "\n",
    "message = input(\"Please type any note to print on your screen:\\n\")\n",
    "print(\"Typed message:\",message)\n",
    "      \n"
   ]
  },
  {
   "cell_type": "code",
   "execution_count": 16,
   "id": "cbd4daf6",
   "metadata": {},
   "outputs": [
    {
     "name": "stdout",
     "output_type": "stream",
     "text": [
      "List ['Albert Einstein', 'Isaac Newton', 'Muhammad Ali Jinnah', 'Abdul Sattar Edhi', 'Abdul Qadeer Khan', 'Abdus Salam']\n",
      "\n",
      "Enter the name of any famous person from the following list in the same format: example, write Albert Einstein with every first letter capatalized without using any quotation marks: Albert Einstein\n",
      "\n",
      "Albert Einstein onces said, \"The true sign of intelligence is not knowledge but imagination.\"\n"
     ]
    }
   ],
   "source": [
    "# Question # 02\n",
    "# Find a quote from a famous person you admire. Print the quote and the name of its author. Your output should look something like the following, including the quotation marks:\n",
    "# Albert Einstein once said, “A person who never made a mistake never tried anything new.”\n",
    "\n",
    "famous_persons = [\"Albert Einstein\", \"Isaac Newton\", \"Muhammad Ali Jinnah\", \"Abdul Sattar Edhi\", \"Abdul Qadeer Khan\", \"Abdus Salam\"]\n",
    "print(\"List\",famous_persons)\n",
    "print()\n",
    "\n",
    "person_name = input(\"Enter the name of any famous person from the following list in the same format: example, write Albert Einstein with every first letter capatalized without using any quotation marks: \")\n",
    "print()\n",
    "quotes = ['\"The true sign of intelligence is not knowledge but imagination.\"','\"No great discovery was ever made without a bold guess.\"','\"Think a hundred times before you take a decision, but once that decision is taken, stand by it as one man.\"','\"No religion is higher than humanity.\"',\n",
    "'\"Hatred, intolerance, poor hygienic conditions and violence all have roots in illiteracy, so we’re trying to do something to help the poor and the needy.\"','\"Scientific thought and its creation is the common and shared heritage of mankind\"']\n",
    "\n",
    "if person_name == famous_persons[0]:\n",
    "    print(famous_persons[0],'onces said,',quotes[0])\n",
    "elif person_name == famous_persons[1]:\n",
    "    print(famous_persons[1],'onces said,',quotes[1])\n",
    "elif person_name == famous_persons[2]:\n",
    "    print(famous_persons[2],'onces said,',quotes[2])\n",
    "elif person_name == famous_persons[3]:\n",
    "    print(famous_persons[3],'onces said,',quotes[3])\n",
    "elif person_name == famous_persons[4]:\n",
    "    print(famous_persons[4],'onces said,',quotes[4])\n",
    "elif person_name == famous_persons[5]:\n",
    "    print(famous_persons[5],'onces said,',quotes[5])\n",
    "else:\n",
    "    print(\"Not in the list, Invalid entry\")\n",
    "    \n",
    "    "
   ]
  },
  {
   "cell_type": "code",
   "execution_count": 36,
   "id": "00296c77",
   "metadata": {},
   "outputs": [
    {
     "name": "stdout",
     "output_type": "stream",
     "text": [
      "Enter the radius of a circle to calculate its area: 5.2\n",
      "The area of a circle with radius 5.20 is 84.95 units squared upto 2 decimal places\n"
     ]
    }
   ],
   "source": [
    "# Question # 03\n",
    "# Calculate Area of a Circle::\n",
    "# Write a Python program which accepts the radius of a circle from the user and compute the area.\n",
    "\n",
    "# Program Console Sample Output 1:\n",
    "# Input Radius: 0.5\n",
    "# Area of Circle with radius 0.5 is 0.7853981634\n",
    "\n",
    "from math import pi\n",
    "radius = float(input(\"Enter the radius of a circle to calculate its area: \"))\n",
    "area = pi * (radius**2)\n",
    "\n",
    "print(\"The area of a circle with radius\",'%.2f' %radius,\"is\",\"%.2f\" % area,\"units squared upto 2 decimal places\")"
   ]
  },
  {
   "cell_type": "code",
   "execution_count": 47,
   "id": "e543bde8",
   "metadata": {},
   "outputs": [
    {
     "name": "stdout",
     "output_type": "stream",
     "text": [
      "Enter any integer: 8\n",
      "\n",
      "Positive Number Entered\n"
     ]
    }
   ],
   "source": [
    "# Question 04\n",
    "# Check Number either positive, negative or zero:\n",
    "# Write a Python program to check if a number is positive, negative or zero\n",
    "\n",
    "\n",
    "num = int(input(\"Enter any integer: \"))\n",
    "print()\n",
    "\n",
    "if num < 0:\n",
    "    print(\"Negative Number Entered\")\n",
    "elif num > 0:\n",
    "    print(\"Positive Number Entered\")\n",
    "elif num == 0:\n",
    "    print(\"Zero Entered\")\n"
   ]
  },
  {
   "cell_type": "code",
   "execution_count": 64,
   "id": "5f5a6d6b",
   "metadata": {},
   "outputs": [
    {
     "name": "stdout",
     "output_type": "stream",
     "text": [
      "Please enter any alphabetical letter: o\n",
      "The entered letter \"o\" is a vowel\n"
     ]
    }
   ],
   "source": [
    "# Question 05\n",
    "# Vowel Tester Write a Python program to test whether a passed letter is a vowel or not\n",
    "\n",
    "vowels = ['a','e','i','o','u','A','E','I','O','U']\n",
    "letter = input(\"Please enter any alphabetical letter: \")\n",
    "if letter in vowels:\n",
    "    print('The entered letter \"{}\" is a vowel'.format(letter))\n",
    "else:\n",
    "    print('The entered letter \"{}\" is not a vowel'.format(letter))"
   ]
  },
  {
   "cell_type": "code",
   "execution_count": 71,
   "id": "5778bca6",
   "metadata": {},
   "outputs": [
    {
     "name": "stdout",
     "output_type": "stream",
     "text": [
      "Enter your weight in kg: 75\n",
      "\n",
      "Enter your height in cm: 150\n",
      "\n",
      "The BMI for weight 75.00 kgs and height 150.00 cm is 33.33 kg/cm2 \n"
     ]
    }
   ],
   "source": [
    "# Question 06\n",
    "# BMI Calculator\n",
    "\n",
    "weight = float(input(\"Enter your weight in kg: \"))\n",
    "print()\n",
    "height = float(input(\"Enter your height in cm: \"))\n",
    "print()\n",
    "\n",
    "bmi = weight / ((height/100))**2\n",
    "print(\"The BMI for weight {:.2f} kgs and height {:.2f} cm is {:.2f} kg/cm2 \".format(weight,height,bmi))"
   ]
  },
  {
   "cell_type": "code",
   "execution_count": 72,
   "id": "4f528708",
   "metadata": {},
   "outputs": [
    {
     "name": "stdout",
     "output_type": "stream",
     "text": [
      "Albert\n",
      "Dirac\n",
      "Newton\n",
      "Shor\n",
      "Turing\n",
      "Mark\n",
      "Pauli\n"
     ]
    }
   ],
   "source": [
    "# Question 07\n",
    "# Store the names of a few of your friends in a list called names\n",
    "# Print each person’s name by accessing each element in the list, one at a time.\n",
    "\n",
    "names = ['Albert','Dirac','Newton','Shor','Turing','Mark','Pauli']\n",
    "for name in names:\n",
    "    print(name)\n",
    "         \n"
   ]
  },
  {
   "cell_type": "code",
   "execution_count": 76,
   "id": "eb350bb5",
   "metadata": {},
   "outputs": [
    {
     "name": "stdout",
     "output_type": "stream",
     "text": [
      "Hello, Albert!\n",
      "\n",
      "Hello, Dirac!\n",
      "\n",
      "Hello, Newton!\n",
      "\n",
      "Hello, Shor!\n",
      "\n",
      "Hello, Turing!\n",
      "\n",
      "Hello, Mark!\n",
      "\n",
      "Hello, Pauli!\n",
      "\n"
     ]
    }
   ],
   "source": [
    "# Question 08\n",
    "# Start with the list you used in Question 4,\n",
    "# but instead of just printing each person’s name, \n",
    "# print a message to them. The text of each message should be the same,\n",
    "# but each message should be personalized with the person’s name.\n",
    "\n",
    "names = ['Albert','Dirac','Newton','Shor','Turing','Mark','Pauli']\n",
    "for name in names:\n",
    "    print(\"Hello, {}!\".format(name))\n",
    "    print()\n",
    "\n",
    "\n",
    "\n"
   ]
  },
  {
   "cell_type": "code",
   "execution_count": 115,
   "id": "32c5cf55",
   "metadata": {},
   "outputs": [
    {
     "name": "stdout",
     "output_type": "stream",
     "text": [
      "The first three items in the food list are ['Biryani', 'Zinger', 'Karahi']\n",
      "\n",
      "Three items in middle of the food list are ['Noodles', 'Broast', 'Fries']\n",
      "\n",
      "The last three itmes of the food list are ['Nihari', 'Kheer', 'Ice-cream']\n"
     ]
    }
   ],
   "source": [
    "# Quesrion 09\n",
    "# Make a python program that conatains your nine favourite dishes in a list called foods.\n",
    "# Print the message, The first three items in the list are:\n",
    "# Then use a slice to print the first three items from that program’s list.\n",
    "# Print the message, Three items from the middle of the list are:\n",
    "# Use a slice to print three items from the middle of the list.\n",
    "# Print the message, The last three items in the list are:\n",
    "# Use a slice to print the last three items in the list.\n",
    "\n",
    "foods = ['Biryani','Zinger','Karahi','Noodles','Broast','Fries','Nihari','Kheer','Ice-cream']\n",
    "\n",
    "print(\"The first three items in the food list are {}\".format(foods[:3]))\n",
    "print()\n",
    "print(\"Three items in middle of the food list are {}\".format(foods[3:6]))\n",
    "print()\n",
    "print(\"The last three itmes of the food list are {}\".format(foods[6:]))"
   ]
  }
 ],
 "metadata": {
  "kernelspec": {
   "display_name": "Python 3 (ipykernel)",
   "language": "python",
   "name": "python3"
  },
  "language_info": {
   "codemirror_mode": {
    "name": "ipython",
    "version": 3
   },
   "file_extension": ".py",
   "mimetype": "text/x-python",
   "name": "python",
   "nbconvert_exporter": "python",
   "pygments_lexer": "ipython3",
   "version": "3.8.13"
  }
 },
 "nbformat": 4,
 "nbformat_minor": 5
}
